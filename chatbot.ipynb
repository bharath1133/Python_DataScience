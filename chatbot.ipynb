{
 "cells": [
  {
   "cell_type": "code",
   "execution_count": null,
   "id": "66136102",
   "metadata": {},
   "outputs": [],
   "source": [
    "Prepare a CHATBOT"
   ]
  },
  {
   "cell_type": "code",
   "execution_count": 111,
   "id": "d9a787da",
   "metadata": {},
   "outputs": [
    {
     "name": "stdout",
     "output_type": "stream",
     "text": [
      "welcome to the chatbot,How can I help you\n",
      "Ask me a question:who are you\n",
      "Who are you\n",
      "Bot response: I am your virtual assistant, ready to help with any questions.\n",
      "Ask me a question:tell me a quote you like?\n",
      "Bot response: I am sorry,I am unable to answer your question.\n",
      "Ask me a question:tell me a quote you like.\n",
      "Tell me a quote you like.\n",
      "Bot response: \"In the midst of winter, I found there was, within me, an invincible summer.\" - Albert Camus\n",
      "Ask me a question:exit\n",
      "Ok,thankyou\n",
      "if you want start the chatbot again please type YES:yes\n",
      "welcome to the chatbot,How can I help you\n",
      "Ask me a question:Good evening\n",
      "Good evening\n",
      "Bot response: Good evening! How was your day?\n",
      "Ask me a question:Do you know a joke\n",
      "Do you know a joke\n",
      "Bot response: What do you call a fish with no eyes? Fsh!\n",
      "Ask me a question:how are you?\n",
      "How are you?\n",
      "Bot response: Thank you for asking,I am doing well\n",
      "Ask me a question:are you single\n",
      "Are you single\n",
      "Bot response: I don't have a personal life, but I'm here to help!\n",
      "Ask me a question:exit\n",
      "Ok,thankyou\n",
      "if you want start the chatbot again please type YES:no\n",
      "thank you for using chatbot,visit again.\n"
     ]
    }
   ],
   "source": [
    "import random\n",
    "import datetime\n",
    "\n",
    "current_date=datetime.datetime.now()\n",
    "today_date=\"{:%d:%m:%Y}\".format(current_date)\n",
    "current_time=\"{:%H:%M:%S}\".format(current_date)\n",
    "current_day=current_date.strftime(\"%A\")\n",
    "# print(current_day)\n",
    "\n",
    "\n",
    "## To get current time\n",
    "# present_time=datetime.datetime.now().time()\n",
    "## To get current date\n",
    "# present_date=datetime.date.today()\n",
    "## To get week day\n",
    "# week_day=current_time.weekday()\n",
    "\n",
    "question_dict={\n",
    "    \"How are you?\":[\"I am fine\", \"I am good\",\"Thank you for asking,I am doing well\"],\n",
    "    \"What is the weather like today?\": [\"The weather today is sunny with a high of 25°C.\"],\n",
    "    \"Can you recommend a good restaurant nearby?\": [\"Sure! I recommend trying out 'La Trattoria' on Main Street. They serve delicious Italian cuisine.\"],\n",
    "    \"How can I improve my productivity?\": [\"To improve productivity, try breaking tasks into smaller chunks, setting deadlines, and minimizing distractions.\"],\n",
    "    \"What is the capital of France?\": [\"The capital of France is Paris.\"],\n",
    "    \"Tell me a fun fact?\": [\"Did you know that honey never spoils? Archaeologists have found pots of honey in ancient Egyptian tombs that are over 3000 years old and still perfectly edible!\"],\n",
    "    \"How do I cook spaghetti carbonara?\": [\"To cook spaghetti carbonara, you'll need spaghetti, eggs, pancetta or bacon, grated Parmesan cheese, black pepper, and olive oil. Cook the spaghetti until al dente, fry the pancetta until crispy, whisk eggs and Parmesan cheese together, mix everything with the cooked spaghetti, and season with black pepper.\"],\n",
    "    \"What is the latest news?\": [\"The latest news headlines include updates on global politics, sports events, and technological advancements. You can check news websites or apps for more detailed information.\"],\n",
    "    \"Can you suggest a book/movie to watch?\": [\"Sure! I recommend the book 'The Great Gatsby' by F. Scott Fitzgerald for a captivating read. For a movie, you might enjoy 'Inception' directed by Christopher Nolan for its mind-bending storyline.\"],\n",
    "    \"How can I learn a new language effectively?\": [\"To learn a new language effectively, immerse yourself in the language by practicing speaking, listening, reading, and writing regularly. Use language learning apps, join conversation groups, and watch movies or TV shows in the target language.\"],\n",
    "    \"What are some tips for staying healthy?\": [\"Staying healthy involves maintaining a balanced diet, getting regular exercise, staying hydrated, getting enough sleep, managing stress levels, and avoiding harmful habits like smoking and excessive alcohol consumption.\"],\n",
    "    \"What's your favorite color?\": [\"My favorite color is blue.\", \"I like green as well.\", \"I enjoy vibrant shades of red.\"],\n",
    "    \"Tell me about yourself.\": [\"I'm a chatbot designed to assist you with various inquiries.\", \"I'm programmed to provide helpful responses to your questions.\", \"I'm constantly learning and improving to better serve you.\"],\n",
    "    \"Do you have any hobbies?\": [\"As a chatbot, I don't have hobbies in the traditional sense.\", \"I enjoy processing and analyzing data to provide accurate responses.\", \"Learning new things is my favorite 'hobby'!\"],\n",
    "    \"What's the meaning of life?\": [\"The meaning of life is subjective and varies from person to person.\", \"Some believe it's about finding happiness and fulfillment.\", \"Others think it's about making a positive impact on the world.\"],\n",
    "    \"Tell me a quote you like.\": [\"\\\"The only way to do great work is to love what you do.\\\" - Steve Jobs\", \"\\\"In the midst of winter, I found there was, within me, an invincible summer.\\\" - Albert Camus\", \"\\\"The future belongs to those who believe in the beauty of their dreams.\\\" - Eleanor Roosevelt\"],\n",
    "    \"What's your favorite book?\": [\"I don't have the capacity to read books, but I can suggest some based on popular opinion!\", \"One of the most popular books among humans is 'To Kill a Mockingbird' by Harper Lee.\", \"Another widely acclaimed book is '1984' by George Orwell.\"],\n",
    "    \"Can you tell a joke?\": [\"Why don't scientists trust atoms? Because they make up everything!\", \"What did one ocean say to the other ocean? Nothing, they just waved!\", \"Why did the scarecrow win an award? Because he was outstanding in his field!\"],\n",
    "    \"What is today date?\":[today_date],\n",
    "    \"What day today?\":[current_day],\n",
    "    \"What is current time?\":[current_time],\n",
    "    \"How are you\": [\"I am fine, thank you!\", \"I'm doing well today, how about you?\", \"Feeling good, thanks for asking!\"],\n",
    "    \"Good morning\": [\"Good morning! Wishing you a great day ahead.\", \"Morning! Hope you have a wonderful day.\", \"Rise and shine!\"],\n",
    "    \"Good evening\": [\"Good evening! How was your day?\", \"Evening! Anything exciting happen today?\", \"Hope you're enjoying your evening.\"],\n",
    "    \"Good afternoon\": [\"Good afternoon! How's your day going?\", \"Afternoon! Ready to tackle the rest of the day?\", \"Hope you're having a productive afternoon.\"],\n",
    "    \"Good night\": [\"Good night! Sleep well and dream sweetly.\", \"Night! Time to rest and recharge.\", \"Wishing you peaceful sleep.\"],\n",
    "    \"Thank you\": [\"You're welcome!\", \"You're welcome! Have a fantastic day, my friend.\", \"Anytime! Let me know if you need more help.\"],\n",
    "    \"Who are you\": [\"I am ChatGPT, an AI language model here to assist you.\", \"I'm ChatGPT, an AI created by OpenAI.\", \"I am your virtual assistant, ready to help with any questions.\"],\n",
    "    \"Goodbye\": [\"Goodbye! Take care.\", \"Farewell! Until next time.\", \"Goodbye! Remember, I'm here whenever you need assistance.\"],\n",
    "    \"How are you doing\": [\"I'm doing well, thanks for asking!\", \"Feeling great today, how about yourself?\", \"Fantastic! Ready to assist you.\"],\n",
    "    \"Do you love me\": [\"I don't have emotions, but I'm here to assist you!\", \"I'm here to help with any questions or tasks.\", \"I don't have personal feelings, but I'm glad to assist you.\"],\n",
    "    \"Happy birthday!\": [\"Happy birthday! Wishing you a fantastic year ahead.\", \"Warm wishes on your special day!\", \"Hope your birthday is filled with joy and laughter!\"],\n",
    "    \"Do you know a joke\": [\"Sure! Here's one: Why don't scientists trust atoms? Because they make up everything!\", \"Why did the computer go to the doctor? It had a virus!\", \"What do you call a fish with no eyes? Fsh!\"],\n",
    "    \"Are you single\": [\"I don't have personal relationships.\", \"I'm here to assist you with information and tasks.\", \"I don't have a personal life, but I'm here to help!\"],\n",
    "}\n",
    "\n",
    "\n",
    "def ask_question(user_input):\n",
    "    if user_input.capitalize() in question_dict:\n",
    "        print(user_input.capitalize())\n",
    "        return random.choice(question_dict[user_input.capitalize()])\n",
    "    else:\n",
    "        return \"I am sorry,I am unable to answer your question.\" \n",
    "\n",
    "\n",
    "def chat():\n",
    "    print(\"welcome to the chatbot,How can I help you\") \n",
    "    while True:\n",
    "        user_input=input(\"Ask me a question:\")\n",
    "        if user_input.lower()=='exit':\n",
    "            print(\"Ok,thankyou\")\n",
    "            break\n",
    "        else:\n",
    "            res=ask_question(user_input)\n",
    "            print(\"Bot response:\",res)\n",
    "\n",
    "chat()\n",
    "while True: \n",
    "    input_text=input(\"if you want start the chatbot again please type YES:\")\n",
    "    if input_text.lower()==\"yes\":\n",
    "        chat()\n",
    "    else:\n",
    "        print(\"thank you for using chatbot,visit again.\")\n",
    "        break"
   ]
  },
  {
   "cell_type": "code",
   "execution_count": null,
   "id": "fb03904d",
   "metadata": {},
   "outputs": [],
   "source": []
  },
  {
   "cell_type": "code",
   "execution_count": null,
   "id": "41a66d42",
   "metadata": {},
   "outputs": [],
   "source": [
    "\n"
   ]
  },
  {
   "cell_type": "code",
   "execution_count": null,
   "id": "2ffc4118",
   "metadata": {},
   "outputs": [],
   "source": []
  },
  {
   "cell_type": "code",
   "execution_count": null,
   "id": "08168cc3",
   "metadata": {},
   "outputs": [],
   "source": [
    "\n",
    "\n"
   ]
  },
  {
   "cell_type": "code",
   "execution_count": null,
   "id": "9926032c",
   "metadata": {},
   "outputs": [],
   "source": []
  },
  {
   "cell_type": "code",
   "execution_count": null,
   "id": "01313e84",
   "metadata": {},
   "outputs": [],
   "source": []
  }
 ],
 "metadata": {
  "kernelspec": {
   "display_name": "Python 3 (ipykernel)",
   "language": "python",
   "name": "python3"
  },
  "language_info": {
   "codemirror_mode": {
    "name": "ipython",
    "version": 3
   },
   "file_extension": ".py",
   "mimetype": "text/x-python",
   "name": "python",
   "nbconvert_exporter": "python",
   "pygments_lexer": "ipython3",
   "version": "3.11.5"
  }
 },
 "nbformat": 4,
 "nbformat_minor": 5
}
